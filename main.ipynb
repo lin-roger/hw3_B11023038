{
 "cells": [
  {
   "cell_type": "code",
   "execution_count": 1,
   "metadata": {},
   "outputs": [
    {
     "name": "stderr",
     "output_type": "stream",
     "text": [
      "/usr/local/lib/python3.12/dist-packages/tqdm/auto.py:21: TqdmWarning: IProgress not found. Please update jupyter and ipywidgets. See https://ipywidgets.readthedocs.io/en/stable/user_install.html\n",
      "  from .autonotebook import tqdm as notebook_tqdm\n"
     ]
    }
   ],
   "source": [
    "import segmentation_models_pytorch as smp\n",
    "from segmentation_models_pytorch.encoders import get_preprocessing_fn\n",
    "from datetime import datetime\n",
    "from torch.optim import Adam\n",
    "from torch.optim.lr_scheduler import OneCycleLR\n",
    "from data_loader import get_data_loader\n",
    "from metrics_utility import MetricsCalculator, post_process\n",
    "from training import BCEWithLogitsLoss\n",
    "import matplotlib.pyplot as plt\n",
    "import numpy as np\n",
    "import torch\n",
    "import cv2 as cv\n",
    "\n",
    "device = torch.accelerator.current_accelerator().type if torch.accelerator.is_available() else \"cpu\""
   ]
  },
  {
   "cell_type": "code",
   "execution_count": 2,
   "metadata": {},
   "outputs": [],
   "source": [
    "# train, val, test = get_data_loader(\"/workspaces/hw3_B11023038/ETT-v3/Fold1\", shuffle=False, batch_size=32, num_workers=0, preprocess_fn = get_preprocessing_fn(en, ew))\n",
    "train, val, test = get_data_loader(\"/workspaces/hw3_B11023038/ETT-v3/Fold1\", shuffle=False, batch_size=16, num_workers=4, preprocess_fn = lambda x: x/255.0)"
   ]
  },
  {
   "cell_type": "code",
   "execution_count": 3,
   "metadata": {},
   "outputs": [],
   "source": [
    "en = \"resnet50\"\n",
    "ew = \"imagenet\"\n",
    "timestamp = datetime.now().strftime('%Y%m%d_%H%M%S')\n",
    "epoch_number = 0\n",
    "EPOCHS = 50\n",
    "best_vloss = 1_000_000.\n",
    "\n",
    "# model_path = './best_weights/model_{}_{}'.format(timestamp, epoch_number)\n",
    "# model_path = './best_weights/best_model_{}_{}_FocalLoss_OneCycleLR'.format(en, ew)\n",
    "# model_path = './best_weights/best_model_{}_{}_DiceLoss_OneCycleLR'.format(en, ew)\n",
    "model_path = './best_weights/best_model_{}_{}_DiceLoss_OneCycleLR_1'.format(en, ew)\n",
    "# model_path = './best_weights/best_model_{}_{}_DiceLoss_OneCycleLR_sigmoid'.format(en, ew)\n",
    "\n",
    "loss_fn = smp.losses.DiceLoss(mode='binary')\n",
    "# loss_fn = smp.losses.FocalLoss(mode='binary')\n",
    "# loss_fn = BCEWithLogitsLoss()"
   ]
  },
  {
   "cell_type": "code",
   "execution_count": 4,
   "metadata": {},
   "outputs": [],
   "source": [
    "model = smp.UnetPlusPlus(\n",
    "    encoder_name=en,        # choose encoder, e.g. mobilenet_v2 or efficientnet-b7\n",
    "    encoder_weights=ew,     # use `imagenet` pre-trained weights for encoder initialization\n",
    "    in_channels=1,          # model input channels (1 for gray-scale images, 3 for RGB, etc.)\n",
    "    classes=1,              # model output channels (number of classes in your dataset)\n",
    ")\n",
    "model = model.to(device)\n",
    "\n",
    "optimizer = Adam(model.parameters(), lr=1e-3)\n",
    "# scheduler = OneCycleLR(optimizer, max_lr=1e-5,\n",
    "#                        pct_start=0.3,\n",
    "#                        steps_per_epoch=len(train),\n",
    "#                        epochs=EPOCHS,\n",
    "#                        anneal_strategy='linear',\n",
    "#                        cycle_momentum=False)"
   ]
  },
  {
   "cell_type": "code",
   "execution_count": 5,
   "metadata": {},
   "outputs": [],
   "source": [
    "# def compute_iou(y_pred, y_true):\n",
    "#    tp, fp, fn, tn =  smp.metrics.get_stats(y_pred, y_true, mode='binary', threshold=0.5, num_classes=1)\n",
    "#    iou_score = smp.metrics.iou_score(tp, fp, fn, tn, reduction=\"micro\")\n",
    "#    return iou_score\n",
    "\n",
    "def train_one_epoch():\n",
    "    running_loss = 0.\n",
    "    # running_iou = 0.\n",
    "\n",
    "    for i, (inputs, labels) in enumerate(train):\n",
    "        inputs, labels = inputs.to(device, dtype=torch.float), labels.to(device)\n",
    "        optimizer.zero_grad()\n",
    "        outputs = model(inputs)\n",
    "\n",
    "        loss = loss_fn(outputs, labels)\n",
    "        loss.backward()\n",
    "        optimizer.step()\n",
    "        # scheduler.step()\n",
    "        running_loss += loss.item()\n",
    "        # running_iou += compute_iou(outputs, labels)\n",
    "        \n",
    "\n",
    "    # return running_loss / (i+1), running_iou / (i+1)\n",
    "    return running_loss / (i+1)"
   ]
  },
  {
   "cell_type": "code",
   "execution_count": 6,
   "metadata": {},
   "outputs": [
    {
     "name": "stdout",
     "output_type": "stream",
     "text": [
      "EPOCH 1:\n",
      "LOSS train 0.8851949671904246 valid 0.8786883354187012\n",
      "Model saved to ./best_weights/best_model_resnet50_imagenet_DiceLoss_OneCycleLR_1\n",
      "EPOCH 2:\n",
      "LOSS train 0.7707711093955569 valid 0.8043060302734375\n",
      "Model saved to ./best_weights/best_model_resnet50_imagenet_DiceLoss_OneCycleLR_1\n",
      "EPOCH 3:\n",
      "LOSS train 0.613905111948649 valid 0.7040192484855652\n",
      "Model saved to ./best_weights/best_model_resnet50_imagenet_DiceLoss_OneCycleLR_1\n",
      "EPOCH 4:\n",
      "LOSS train 0.41503094302283394 valid 0.4295843839645386\n",
      "Model saved to ./best_weights/best_model_resnet50_imagenet_DiceLoss_OneCycleLR_1\n",
      "EPOCH 5:\n",
      "LOSS train 0.298239098654853 valid 0.3038797378540039\n",
      "Model saved to ./best_weights/best_model_resnet50_imagenet_DiceLoss_OneCycleLR_1\n",
      "EPOCH 6:\n",
      "LOSS train 0.26683735185199314 valid 0.4083806872367859\n",
      "EPOCH 7:\n",
      "LOSS train 0.2666509019003974 valid 0.37592217326164246\n",
      "EPOCH 8:\n",
      "LOSS train 0.28514044483502704 valid 0.3322151005268097\n",
      "EPOCH 9:\n",
      "LOSS train 0.1884538001484341 valid 0.2480817288160324\n",
      "Model saved to ./best_weights/best_model_resnet50_imagenet_DiceLoss_OneCycleLR_1\n",
      "EPOCH 10:\n",
      "LOSS train 0.1679719090461731 valid 0.20357678830623627\n",
      "Model saved to ./best_weights/best_model_resnet50_imagenet_DiceLoss_OneCycleLR_1\n",
      "EPOCH 11:\n",
      "LOSS train 0.16874158051278856 valid 0.3333999514579773\n",
      "EPOCH 12:\n",
      "LOSS train 0.16080170538690355 valid 0.393270343542099\n",
      "EPOCH 13:\n",
      "LOSS train 0.1413588027159373 valid 0.17168277502059937\n",
      "Model saved to ./best_weights/best_model_resnet50_imagenet_DiceLoss_OneCycleLR_1\n",
      "EPOCH 14:\n",
      "LOSS train 0.11478855874803331 valid 0.19625620543956757\n",
      "EPOCH 15:\n",
      "LOSS train 0.10546942551930745 valid 0.20510366559028625\n",
      "EPOCH 16:\n",
      "LOSS train 0.09137021501859029 valid 0.2397671788930893\n",
      "EPOCH 17:\n",
      "LOSS train 0.08766565720240276 valid 0.1791377067565918\n",
      "EPOCH 18:\n",
      "LOSS train 0.08252975013520983 valid 0.19929413497447968\n",
      "EPOCH 19:\n",
      "LOSS train 0.08163518044683668 valid 0.22856470942497253\n",
      "EPOCH 20:\n",
      "LOSS train 0.0854051344924503 valid 0.21535497903823853\n",
      "EPOCH 21:\n",
      "LOSS train 0.08743473225169712 valid 0.22420939803123474\n",
      "EPOCH 22:\n",
      "LOSS train 0.10601833462715149 valid 0.15943163633346558\n",
      "Model saved to ./best_weights/best_model_resnet50_imagenet_DiceLoss_OneCycleLR_1\n",
      "EPOCH 23:\n",
      "LOSS train 0.13617830806308323 valid 0.31439363956451416\n",
      "EPOCH 24:\n",
      "LOSS train 0.12473413679334852 valid 0.2865087389945984\n",
      "EPOCH 25:\n",
      "LOSS train 0.12861662440829807 valid 0.3772793412208557\n",
      "EPOCH 26:\n",
      "LOSS train 0.10524879892667134 valid 0.24408648908138275\n",
      "EPOCH 27:\n",
      "LOSS train 0.10845906535784404 valid 0.5118772387504578\n",
      "EPOCH 28:\n",
      "LOSS train 0.10473296708530849 valid 0.5603107810020447\n",
      "EPOCH 29:\n",
      "LOSS train 0.1014184057712555 valid 0.1903214156627655\n",
      "EPOCH 30:\n",
      "LOSS train 0.08662263883484735 valid 0.2186185121536255\n",
      "EPOCH 31:\n",
      "LOSS train 0.07587847775883144 valid 0.17508451640605927\n",
      "EPOCH 32:\n",
      "LOSS train 0.07169482774204677 valid 0.1726415753364563\n",
      "EPOCH 33:\n",
      "LOSS train 0.06698422299491034 valid 0.17879872024059296\n",
      "EPOCH 34:\n",
      "LOSS train 0.06596921218766107 valid 0.14635425806045532\n",
      "Model saved to ./best_weights/best_model_resnet50_imagenet_DiceLoss_OneCycleLR_1\n",
      "EPOCH 35:\n",
      "LOSS train 0.061399218108918935 valid 0.1607879102230072\n",
      "EPOCH 36:\n",
      "LOSS train 0.052870475583606295 valid 0.14881329238414764\n",
      "EPOCH 37:\n",
      "LOSS train 0.04910850524902344 valid 0.13488847017288208\n",
      "Model saved to ./best_weights/best_model_resnet50_imagenet_DiceLoss_OneCycleLR_1\n",
      "EPOCH 38:\n",
      "LOSS train 0.05014926195144653 valid 0.14765511453151703\n",
      "EPOCH 39:\n",
      "LOSS train 0.04988436897595724 valid 0.15487830340862274\n",
      "EPOCH 40:\n",
      "LOSS train 0.04931151535775927 valid 0.16242364048957825\n",
      "EPOCH 41:\n",
      "LOSS train 0.047667099369896784 valid 0.14184114336967468\n",
      "EPOCH 42:\n",
      "LOSS train 0.04656481742858887 valid 0.16048717498779297\n",
      "EPOCH 43:\n",
      "LOSS train 0.047300375170177884 valid 0.1627715677022934\n",
      "EPOCH 44:\n",
      "LOSS train 0.04618888431125217 valid 0.1475364863872528\n",
      "EPOCH 45:\n",
      "LOSS train 0.04569707976447211 valid 0.15388330817222595\n",
      "EPOCH 46:\n",
      "LOSS train 0.04659000701374478 valid 0.15742382407188416\n",
      "EPOCH 47:\n",
      "LOSS train 0.04896362291442023 valid 0.14285245537757874\n",
      "EPOCH 48:\n",
      "LOSS train 0.04766611258188883 valid 0.16518162190914154\n",
      "EPOCH 49:\n",
      "LOSS train 0.04584020376205444 valid 0.1889079511165619\n",
      "EPOCH 50:\n",
      "LOSS train 0.04263231820530362 valid 0.14478406310081482\n"
     ]
    }
   ],
   "source": [
    "count = 0\n",
    "patience = 5 \n",
    "for epoch in range(EPOCHS):\n",
    "    print('EPOCH {}:'.format(epoch_number + 1))\n",
    "\n",
    "    model.train(True)\n",
    "    # avg_loss, avg_iou = train_one_epoch()\n",
    "    avg_loss = train_one_epoch()\n",
    "\n",
    "    running_vloss = 0.0\n",
    "    # running_viou = 0.0\n",
    "    model.eval()\n",
    "    with torch.no_grad():\n",
    "        for i, (vinputs, vlabels) in enumerate(val):\n",
    "            vinputs = vinputs.to(device, dtype=torch.float)\n",
    "            vlabels = vlabels.to(device)\n",
    "            voutputs = model(vinputs)\n",
    "            vloss = loss_fn(voutputs, vlabels)\n",
    "            # viou = compute_iou(voutputs, vlabels)\n",
    "            running_vloss += vloss\n",
    "            # running_viou += viou\n",
    "\n",
    "    avg_vloss = running_vloss / (i + 1)\n",
    "    # avg_viou = running_viou / (i + 1)\n",
    "    print('LOSS train {} valid {}'.format(avg_loss, avg_vloss))\n",
    "    # print('IOU train {} valid {}'.format(avg_iou, avg_viou))\n",
    "\n",
    "    # Track best performance, and save the model's state\n",
    "    if avg_vloss < best_vloss:\n",
    "        best_vloss = avg_vloss\n",
    "        # model.save_pretrained(model_path, metrics={'epoch': epoch_number, 'loss': avg_vloss.cpu().tolist(), 'iou': avg_viou.cpu().tolist()}, dataset='ETT-v3')\n",
    "        model.save_pretrained(model_path, metrics={'epoch': epoch_number, 'loss': avg_vloss.cpu().tolist()}, dataset='ETT-v3')\n",
    "        print('Model saved to {}'.format(model_path))\n",
    "        count = 0\n",
    "    # else:\n",
    "    #     count += 1\n",
    "    #     if count >= patience:\n",
    "    #         print(\"Early stopping\")\n",
    "    #         break\n",
    "\n",
    "    epoch_number += 1\n",
    "\n",
    "del model"
   ]
  },
  {
   "cell_type": "code",
   "execution_count": 7,
   "metadata": {},
   "outputs": [
    {
     "name": "stdout",
     "output_type": "stream",
     "text": [
      "Loading weights from local directory\n"
     ]
    },
    {
     "data": {
      "text/plain": [
       "{'iou': 0.7715543280256555,\n",
       " 'error_cm': 0.41164302600472813,\n",
       " 'error_0_5cm': 78.72340425531915,\n",
       " 'error_1cm': 93.61702127659575,\n",
       " 'loss': 0.13068817555904388}"
      ]
     },
     "execution_count": 7,
     "metadata": {},
     "output_type": "execute_result"
    }
   ],
   "source": [
    "# Test the model&print the results\n",
    "test_model = smp.from_pretrained(model_path).to(device)\n",
    "test_model.eval()\n",
    "mc = MetricsCalculator(72, 7)\n",
    "\n",
    "with torch.no_grad():\n",
    "    running_test_loss = 0.0\n",
    "    for i, (tinputs, tlabels) in enumerate(test):\n",
    "        tinputs = tinputs.to(device, dtype=torch.float)\n",
    "        tlabels = tlabels.to(device)\n",
    "        toutputs = test_model(tinputs)\n",
    "        tloss = loss_fn(toutputs, tlabels)\n",
    "        mc(toutputs, tlabels)\n",
    "        running_test_loss += tloss\n",
    "    avg_test_loss = running_test_loss / (i + 1)\n",
    "metrics = mc.compute()\n",
    "metrics[\"loss\"] = float(avg_test_loss.cpu())\n",
    "metrics"
   ]
  },
  {
   "cell_type": "code",
   "execution_count": null,
   "metadata": {},
   "outputs": [],
   "source": [
    "tinputs = tinputs.cpu().numpy()*255\n",
    "toutputs, tlabels = post_process(toutputs, tlabels)"
   ]
  },
  {
   "cell_type": "code",
   "execution_count": null,
   "metadata": {},
   "outputs": [],
   "source": [
    "plt.figure(figsize = (16, 6))\n",
    "for i in range(15):\n",
    "    plt.subplot(4, 4, i + 1)\n",
    "    plt.imshow(np.concatenate((tinputs[i][0], toutputs[i][0], tlabels[i][0]), axis=1), cmap='gray')\n",
    "    plt.axis('off')"
   ]
  },
  {
   "cell_type": "code",
   "execution_count": null,
   "metadata": {},
   "outputs": [],
   "source": [
    "import pandas as pd\n",
    "matrics_df = pd.DataFrame(\n",
    "    columns=[\"arch\", \"backbone\", \"loss\", \"iou\", \"err_cm\", \"err_0_5cm\", \"err_1cm\", \"loss\"]\n",
    ")"
   ]
  },
  {
   "cell_type": "code",
   "execution_count": null,
   "metadata": {},
   "outputs": [],
   "source": [
    "matrics_df"
   ]
  },
  {
   "cell_type": "code",
   "execution_count": null,
   "metadata": {},
   "outputs": [],
   "source": []
  }
 ],
 "metadata": {
  "kernelspec": {
   "display_name": "Python 3 (ipykernel)",
   "language": "python",
   "name": "python3"
  },
  "language_info": {
   "codemirror_mode": {
    "name": "ipython",
    "version": 3
   },
   "file_extension": ".py",
   "mimetype": "text/x-python",
   "name": "python",
   "nbconvert_exporter": "python",
   "pygments_lexer": "ipython3",
   "version": "3.12.3"
  }
 },
 "nbformat": 4,
 "nbformat_minor": 2
}
